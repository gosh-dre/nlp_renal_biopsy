{
 "cells": [
  {
   "cell_type": "code",
   "execution_count": 6,
   "metadata": {},
   "outputs": [],
   "source": [
    "import sys\n",
    "from pathlib import Path\n",
    "true_root_dir = Path().resolve().parent\n",
    "sys.path.append(str(true_root_dir))"
   ]
  },
  {
   "cell_type": "code",
   "execution_count": null,
   "metadata": {},
   "outputs": [],
   "source": [
    "from src.preprocessing.guidelines import EntityGuidelines\n",
    "from src.renal_biopsy.preprocessor import RenalBiopsyProcessor\n",
    "\n",
    "root_data_dir = \"src/renal_biopsy/data\"\n",
    "guidelines = EntityGuidelines(f'{true_root_dir}/{root_data_dir}/guidelines.xlsx')\n",
    "processor = RenalBiopsyProcessor(guidelines=guidelines)\n",
    "\n",
    "input_json = processor.create_input_json(\n",
    "    data_path=f\"{true_root_dir}/{root_data_dir}/full_data.xlsx\",\n",
    "    save_path=f\"{true_root_dir}/{root_data_dir}/input.json\",\n",
    "    full=True\n",
    ")\n",
    "\n",
    "segmented_reports = processor.process_all_reports_real(f\"{true_root_dir}/{root_data_dir}/full_data.xlsx\")\n",
    "filtered_reports, microscopy_sections, conclusion_sections = processor.extract_valid_sections(\n",
    "    segmented_reports, \n",
    "    required_sections=['MICROSCOPY', 'CONCLUSION']\n",
    ")"
   ]
  },
  {
   "cell_type": "code",
   "execution_count": null,
   "metadata": {},
   "outputs": [],
   "source": [
    "from src.preprocessing.eda import MedicalReportEDA\n",
    "\n",
    "eda = MedicalReportEDA()\n",
    "\n",
    "stats = eda.analyse_section_lengths(segmented_reports, exclude_keys=['entity_key'])\n",
    "\n",
    "stats = eda.calculate_report_statistics(\n",
    "    reports=segmented_reports,\n",
    "    section_keys=['MICROSCOPY', 'CONCLUSION']\n",
    ")\n",
    "# all sections\n",
    "# stats = eda.calculate_report_statistics(reports=segmented_reports)"
   ]
  },
  {
   "cell_type": "code",
   "execution_count": null,
   "metadata": {},
   "outputs": [],
   "source": [
    "eda.analyse_word_distributions(microscopy_sections, f'Microscopy Section (n={len(microscopy_sections)})')\n",
    "eda.analyse_word_distributions(microscopy_sections, f'Microscopy Section (n={len(microscopy_sections)})')\n"
   ]
  },
  {
   "cell_type": "code",
   "execution_count": null,
   "metadata": {},
   "outputs": [],
   "source": [
    "# number of patients\n",
    "import pandas as pd\n",
    "sample_data = pd.read_excel(f\"{true_root_dir}/{root_data_dir}/full_data.xlsx\")\n",
    "len(sample_data['project_id'].unique())"
   ]
  },
  {
   "cell_type": "code",
   "execution_count": null,
   "metadata": {},
   "outputs": [],
   "source": [
    "import Levenshtein as lev\n",
    "\n",
    "highlight_words = ['glomeruli', 'medulla', 'cortex', 'fibrosis', 'sclerosed', 'chronic', 'interstitial', 'tubular', 'atrophy']\n",
    "word_freq_df = eda.analyse_word_frequencies_spacy(\n",
    "    segmented_reports, \n",
    "    'MICROSCOPY',\n",
    "    highlight_words=highlight_words,\n",
    "    n_terms=40\n",
    ")"
   ]
  },
  {
   "cell_type": "code",
   "execution_count": null,
   "metadata": {},
   "outputs": [],
   "source": [
    "# Check for misspellings of main words\n",
    "misspellings = {}\n",
    "for correct_word in highlight_words:\n",
    "    misspellings[correct_word] = word_freq_df['Word'].apply(lambda x: lev.distance(x, correct_word) <= 3)\n",
    "\n",
    "# Print misspellings\n",
    "for correct_word, matches in misspellings.items():\n",
    "    print(f\"\\nPossible misspellings of '{correct_word}':\")\n",
    "    print(word_freq_df[matches])"
   ]
  },
  {
   "cell_type": "code",
   "execution_count": null,
   "metadata": {},
   "outputs": [],
   "source": [
    "custom_stop_words = ['and', 'are', 'but', 'in', 'is', 'no', 'of', 'the', 'there', 'with', 'seen', 'show', 'shows', 'to', 'which']\n",
    "eda.analyse_tfidf(microscopy_sections[:40], n_terms=30, custom_stop_words=custom_stop_words)"
   ]
  }
 ],
 "metadata": {
  "kernelspec": {
   "display_name": "gosh-llm-2 (ipython)",
   "language": "python",
   "name": "gosh-llm-2"
  },
  "language_info": {
   "codemirror_mode": {
    "name": "ipython",
    "version": 3
   },
   "file_extension": ".py",
   "mimetype": "text/x-python",
   "name": "python",
   "nbconvert_exporter": "python",
   "pygments_lexer": "ipython3",
   "version": "3.12.6"
  }
 },
 "nbformat": 4,
 "nbformat_minor": 2
}
